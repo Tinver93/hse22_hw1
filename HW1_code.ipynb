{
  "nbformat": 4,
  "nbformat_minor": 0,
  "metadata": {
    "colab": {
      "provenance": [],
      "authorship_tag": "ABX9TyNyX14ggH2/ipwX5rSfp/c5",
      "include_colab_link": true
    },
    "kernelspec": {
      "name": "python3",
      "display_name": "Python 3"
    },
    "language_info": {
      "name": "python"
    }
  },
  "cells": [
    {
      "cell_type": "markdown",
      "metadata": {
        "id": "view-in-github",
        "colab_type": "text"
      },
      "source": [
        "<a href=\"https://colab.research.google.com/github/Tinver93/hse22_hw1/blob/main/HW1_code.ipynb\" target=\"_parent\"><img src=\"https://colab.research.google.com/assets/colab-badge.svg\" alt=\"Open In Colab\"/></a>"
      ]
    },
    {
      "cell_type": "code",
      "execution_count": 40,
      "metadata": {
        "colab": {
          "base_uri": "https://localhost:8080/"
        },
        "id": "qLAgoWujatgH",
        "outputId": "8f44360c-74ca-44b4-d8ff-264e6587e619"
      },
      "outputs": [
        {
          "output_type": "stream",
          "name": "stdout",
          "text": [
            "Количество контигов 617\n",
            "Суммарная длинна всех объектов 3988844\n",
            "Максимальная длинна объекта 181572\n",
            "n50 =  52256\n"
          ]
        }
      ],
      "source": [
        "with open ('out_contig.fa') as f:\n",
        "  x = f.read()\n",
        "arr = x.split('>')\n",
        "len_arr = [len(x) for x in arr]\n",
        "max_element = arr[len_arr.index(max(len_arr))]\n",
        "len_arr = sorted(len_arr)\n",
        "sum = 0\n",
        "for item in len_arr:\n",
        "  n50 = item\n",
        "  sum += item\n",
        "  if sum > (len(x)/2):\n",
        "    break\n",
        "print('Количество контигов', len(arr))\n",
        "print('Суммарная длинна всех объектов', len(x))\n",
        "print('Максимальная длинна объекта', max(len_arr))\n",
        "print('n50 = ', n50)"
      ]
    },
    {
      "cell_type": "code",
      "source": [
        "with open ('out_gapClosed.fa') as f:\n",
        "  x = f.read()\n",
        "arr = x.split('>')\n",
        "len_arr = [len(x) for x in arr]\n",
        "max_element = arr[len_arr.index(max(len_arr))]\n",
        "len_arr = sorted(len_arr)\n",
        "sum = 0\n",
        "for item in len_arr:\n",
        "  n50 = item\n",
        "  sum += item\n",
        "  if sum > (len(x)/2):\n",
        "    break\n",
        "cnt = 0\n",
        "for i in range(len(max_element)):\n",
        "  if (max_element[i-1] == \"N\") and (max_element[i] != \"N\"):\n",
        "    cnt += 1\n",
        "print('Количество гэпов в самом длинном элементе', cnt)\n",
        "print('Количество скаффолдов с закрытыми гэпами', len(arr))\n",
        "print('Суммарная длинна всех объектов', len(x))\n",
        "print('Максимальная длинна объекта', max(len_arr))\n",
        "print('n50 = ', n50)"
      ],
      "metadata": {
        "colab": {
          "base_uri": "https://localhost:8080/"
        },
        "id": "nfgiDWGtcAC_",
        "outputId": "886354ef-0488-468b-c8be-a74e5a454aa8"
      },
      "execution_count": 41,
      "outputs": [
        {
          "output_type": "stream",
          "name": "stdout",
          "text": [
            "Количество гэпов в самом длинном элементе 36\n",
            "Количество скаффолдов с закрытыми гэпами 76\n",
            "Суммарная длинна всех объектов 3973489\n",
            "Максимальная длинна объекта 3927325\n",
            "n50 =  3927325\n"
          ]
        }
      ]
    },
    {
      "cell_type": "code",
      "source": [
        "with open ('out_scaffold.fa') as f:\n",
        "  x = f.read()\n",
        "arr = x.split('>')\n",
        "len_arr = [len(x) for x in arr]\n",
        "max_element = arr[len_arr.index(max(len_arr))]\n",
        "len_arr = sorted(len_arr)\n",
        "sum = 0\n",
        "for item in len_arr:\n",
        "  n50 = item\n",
        "  sum += item\n",
        "  if sum > (len(x)/2):\n",
        "    break\n",
        "cnt = 0\n",
        "for i in range(len(max_element)):\n",
        "  if (max_element[i-1] == \"N\") and (max_element[i] != \"N\"):\n",
        "    cnt += 1\n",
        "print('Количество гэпов в самом длинном элементе', cnt)\n",
        "print('Количество скаффолдов',len(arr))\n",
        "print('Суммарная длинна всех объектов', len(x))\n",
        "print('Максимальная длинна объекта', max(len_arr))\n",
        "print('n50 = ', n50)"
      ],
      "metadata": {
        "colab": {
          "base_uri": "https://localhost:8080/"
        },
        "id": "7Nhe0hC6cHiz",
        "outputId": "ddf1d7fa-acc3-4a8b-ddb8-b03f80b30d92"
      },
      "execution_count": 42,
      "outputs": [
        {
          "output_type": "stream",
          "name": "stdout",
          "text": [
            "Количество гэпов в самом длинном элементе 149\n",
            "Количество скаффолдов 76\n",
            "Суммарная длинна всех объектов 3927603\n",
            "Максимальная длинна объекта 3880778\n",
            "n50 =  3880778\n"
          ]
        }
      ]
    }
  ]
}